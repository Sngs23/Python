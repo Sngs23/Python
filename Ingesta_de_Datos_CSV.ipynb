{
  "cells": [
    {
      "cell_type": "markdown",
      "metadata": {
        "id": "view-in-github",
        "colab_type": "text"
      },
      "source": [
        "<a href=\"https://colab.research.google.com/github/Sngs23/Python/blob/main/Ingesta_de_Datos_CSV.ipynb\" target=\"_parent\"><img src=\"https://colab.research.google.com/assets/colab-badge.svg\" alt=\"Open In Colab\"/></a>"
      ]
    },
    {
      "cell_type": "code",
      "execution_count": null,
      "id": "1af87cf3",
      "metadata": {
        "id": "1af87cf3"
      },
      "outputs": [],
      "source": [
        "#Importar el Archivo\n",
        "\n",
        "import pandas as pd\n",
        "\n",
        "df = pd.read_csv(\"C:/Users/Silvio/Desktop/pythonticmas/parte2/boat_data.csv\",sep=\",\")"
      ]
    },
    {
      "cell_type": "code",
      "execution_count": null,
      "id": "18e852d7",
      "metadata": {
        "id": "18e852d7",
        "outputId": "40065941-e383-42b0-9194-9e06f3d004d9"
      },
      "outputs": [
        {
          "data": {
            "text/html": [
              "<div>\n",
              "<style scoped>\n",
              "    .dataframe tbody tr th:only-of-type {\n",
              "        vertical-align: middle;\n",
              "    }\n",
              "\n",
              "    .dataframe tbody tr th {\n",
              "        vertical-align: top;\n",
              "    }\n",
              "\n",
              "    .dataframe thead th {\n",
              "        text-align: right;\n",
              "    }\n",
              "</style>\n",
              "<table border=\"1\" class=\"dataframe\">\n",
              "  <thead>\n",
              "    <tr style=\"text-align: right;\">\n",
              "      <th></th>\n",
              "      <th>Price</th>\n",
              "      <th>Boat Type</th>\n",
              "      <th>Manufacturer</th>\n",
              "      <th>Type</th>\n",
              "      <th>Year Built</th>\n",
              "      <th>Length</th>\n",
              "      <th>Width</th>\n",
              "      <th>Material</th>\n",
              "      <th>Location</th>\n",
              "      <th>Number of views last 7 days</th>\n",
              "    </tr>\n",
              "  </thead>\n",
              "  <tbody>\n",
              "    <tr>\n",
              "      <th>0</th>\n",
              "      <td>CHF 3337</td>\n",
              "      <td>Motor Yacht</td>\n",
              "      <td>Rigiflex power boats</td>\n",
              "      <td>new boat from stock</td>\n",
              "      <td>2017</td>\n",
              "      <td>4.00</td>\n",
              "      <td>1.90</td>\n",
              "      <td>NaN</td>\n",
              "      <td>Switzerland Â» Lake Geneva Â» VÃ©senaz</td>\n",
              "      <td>226</td>\n",
              "    </tr>\n",
              "    <tr>\n",
              "      <th>1</th>\n",
              "      <td>EUR 3490</td>\n",
              "      <td>Center console boat</td>\n",
              "      <td>Terhi power boats</td>\n",
              "      <td>new boat from stock</td>\n",
              "      <td>2020</td>\n",
              "      <td>4.00</td>\n",
              "      <td>1.50</td>\n",
              "      <td>Thermoplastic</td>\n",
              "      <td>Germany Â» BÃ¶nningstedt</td>\n",
              "      <td>75</td>\n",
              "    </tr>\n",
              "    <tr>\n",
              "      <th>2</th>\n",
              "      <td>CHF 3770</td>\n",
              "      <td>Sport Boat</td>\n",
              "      <td>Marine power boats</td>\n",
              "      <td>new boat from stock</td>\n",
              "      <td>0</td>\n",
              "      <td>3.69</td>\n",
              "      <td>1.42</td>\n",
              "      <td>Aluminium</td>\n",
              "      <td>Switzerland Â» Lake of Zurich Â» StÃ¤fa ZH</td>\n",
              "      <td>124</td>\n",
              "    </tr>\n",
              "    <tr>\n",
              "      <th>3</th>\n",
              "      <td>DKK 25900</td>\n",
              "      <td>Sport Boat</td>\n",
              "      <td>Pioner power boats</td>\n",
              "      <td>new boat from stock</td>\n",
              "      <td>2020</td>\n",
              "      <td>3.00</td>\n",
              "      <td>1.00</td>\n",
              "      <td>NaN</td>\n",
              "      <td>Denmark Â» Svendborg</td>\n",
              "      <td>64</td>\n",
              "    </tr>\n",
              "    <tr>\n",
              "      <th>4</th>\n",
              "      <td>EUR 3399</td>\n",
              "      <td>Fishing Boat</td>\n",
              "      <td>Linder power boats</td>\n",
              "      <td>new boat from stock</td>\n",
              "      <td>2019</td>\n",
              "      <td>3.55</td>\n",
              "      <td>1.46</td>\n",
              "      <td>Aluminium</td>\n",
              "      <td>Germany Â» Bayern Â» MÃ¼nchen</td>\n",
              "      <td>58</td>\n",
              "    </tr>\n",
              "  </tbody>\n",
              "</table>\n",
              "</div>"
            ],
            "text/plain": [
              "       Price            Boat Type          Manufacturer                 Type  \\\n",
              "0   CHF 3337          Motor Yacht  Rigiflex power boats  new boat from stock   \n",
              "1   EUR 3490  Center console boat     Terhi power boats  new boat from stock   \n",
              "2   CHF 3770           Sport Boat    Marine power boats  new boat from stock   \n",
              "3  DKK 25900           Sport Boat    Pioner power boats  new boat from stock   \n",
              "4   EUR 3399         Fishing Boat    Linder power boats  new boat from stock   \n",
              "\n",
              "   Year Built  Length  Width       Material  \\\n",
              "0        2017    4.00   1.90            NaN   \n",
              "1        2020    4.00   1.50  Thermoplastic   \n",
              "2           0    3.69   1.42      Aluminium   \n",
              "3        2020    3.00   1.00            NaN   \n",
              "4        2019    3.55   1.46      Aluminium   \n",
              "\n",
              "                                     Location  Number of views last 7 days  \n",
              "0      Switzerland Â» Lake Geneva Â» VÃ©senaz                          226  \n",
              "1                    Germany Â» BÃ¶nningstedt                           75  \n",
              "2  Switzerland Â» Lake of Zurich Â» StÃ¤fa ZH                          124  \n",
              "3                        Denmark Â» Svendborg                           64  \n",
              "4               Germany Â» Bayern Â» MÃ¼nchen                           58  "
            ]
          },
          "execution_count": 7,
          "metadata": {},
          "output_type": "execute_result"
        }
      ],
      "source": [
        "#Imprimo las primeras Filas del dataFrame\n",
        "df.head()"
      ]
    },
    {
      "cell_type": "code",
      "execution_count": null,
      "id": "fe3c5d6e",
      "metadata": {
        "id": "fe3c5d6e",
        "outputId": "ad6ba7c9-9ef0-4846-cbf0-f75f2af2c5a8"
      },
      "outputs": [
        {
          "data": {
            "text/html": [
              "<div>\n",
              "<style scoped>\n",
              "    .dataframe tbody tr th:only-of-type {\n",
              "        vertical-align: middle;\n",
              "    }\n",
              "\n",
              "    .dataframe tbody tr th {\n",
              "        vertical-align: top;\n",
              "    }\n",
              "\n",
              "    .dataframe thead th {\n",
              "        text-align: right;\n",
              "    }\n",
              "</style>\n",
              "<table border=\"1\" class=\"dataframe\">\n",
              "  <thead>\n",
              "    <tr style=\"text-align: right;\">\n",
              "      <th></th>\n",
              "      <th>Price</th>\n",
              "      <th>Boat Type</th>\n",
              "      <th>Manufacturer</th>\n",
              "      <th>Type</th>\n",
              "      <th>Year Built</th>\n",
              "      <th>Length</th>\n",
              "      <th>Width</th>\n",
              "      <th>Material</th>\n",
              "      <th>Location</th>\n",
              "      <th>Number of views last 7 days</th>\n",
              "    </tr>\n",
              "  </thead>\n",
              "  <tbody>\n",
              "    <tr>\n",
              "      <th>9883</th>\n",
              "      <td>CHF 4900</td>\n",
              "      <td>Sport Boat</td>\n",
              "      <td>Sea Ray power boats</td>\n",
              "      <td>Used boat,Unleaded</td>\n",
              "      <td>1987</td>\n",
              "      <td>6.30</td>\n",
              "      <td>2.44</td>\n",
              "      <td>NaN</td>\n",
              "      <td>Switzerland Â» Lago Maggiore Â» Riazzino</td>\n",
              "      <td>1116</td>\n",
              "    </tr>\n",
              "    <tr>\n",
              "      <th>9884</th>\n",
              "      <td>EUR 4516</td>\n",
              "      <td>Sport Boat</td>\n",
              "      <td>NaN</td>\n",
              "      <td>new boat from stock</td>\n",
              "      <td>0</td>\n",
              "      <td>4.17</td>\n",
              "      <td>1.68</td>\n",
              "      <td>GRP</td>\n",
              "      <td>Germany Â» Hamburg Â» HAMBURG</td>\n",
              "      <td>94</td>\n",
              "    </tr>\n",
              "    <tr>\n",
              "      <th>9885</th>\n",
              "      <td>EUR 4499</td>\n",
              "      <td>Sport Boat</td>\n",
              "      <td>BlueCraft power boats</td>\n",
              "      <td>new boat from stock,Unleaded</td>\n",
              "      <td>2020</td>\n",
              "      <td>4.40</td>\n",
              "      <td>1.80</td>\n",
              "      <td>GRP</td>\n",
              "      <td>Germany Â» Nordrhein-Westfalen Â» Wesel</td>\n",
              "      <td>354</td>\n",
              "    </tr>\n",
              "    <tr>\n",
              "      <th>9886</th>\n",
              "      <td>EUR 4300</td>\n",
              "      <td>Pontoon Boat</td>\n",
              "      <td>Whaly power boats</td>\n",
              "      <td>new boat from stock</td>\n",
              "      <td>2018</td>\n",
              "      <td>4.37</td>\n",
              "      <td>1.89</td>\n",
              "      <td>NaN</td>\n",
              "      <td>Italy Â» Dormelletto</td>\n",
              "      <td>266</td>\n",
              "    </tr>\n",
              "    <tr>\n",
              "      <th>9887</th>\n",
              "      <td>CHF 3780</td>\n",
              "      <td>Fishing Boat</td>\n",
              "      <td>DarekCo power boats</td>\n",
              "      <td>new boat from stock</td>\n",
              "      <td>2019</td>\n",
              "      <td>3.60</td>\n",
              "      <td>1.60</td>\n",
              "      <td>GRP</td>\n",
              "      <td>Switzerland Â» Brienzersee Â» Brienz</td>\n",
              "      <td>194</td>\n",
              "    </tr>\n",
              "  </tbody>\n",
              "</table>\n",
              "</div>"
            ],
            "text/plain": [
              "         Price     Boat Type           Manufacturer  \\\n",
              "9883  CHF 4900    Sport Boat    Sea Ray power boats   \n",
              "9884  EUR 4516    Sport Boat                    NaN   \n",
              "9885  EUR 4499    Sport Boat  BlueCraft power boats   \n",
              "9886  EUR 4300  Pontoon Boat      Whaly power boats   \n",
              "9887  CHF 3780  Fishing Boat    DarekCo power boats   \n",
              "\n",
              "                              Type  Year Built  Length  Width Material  \\\n",
              "9883            Used boat,Unleaded        1987    6.30   2.44      NaN   \n",
              "9884           new boat from stock           0    4.17   1.68      GRP   \n",
              "9885  new boat from stock,Unleaded        2020    4.40   1.80      GRP   \n",
              "9886           new boat from stock        2018    4.37   1.89      NaN   \n",
              "9887           new boat from stock        2019    3.60   1.60      GRP   \n",
              "\n",
              "                                      Location  Number of views last 7 days  \n",
              "9883  Switzerland Â» Lago Maggiore Â» Riazzino                         1116  \n",
              "9884             Germany Â» Hamburg Â» HAMBURG                           94  \n",
              "9885   Germany Â» Nordrhein-Westfalen Â» Wesel                          354  \n",
              "9886                     Italy Â» Dormelletto                           266  \n",
              "9887      Switzerland Â» Brienzersee Â» Brienz                          194  "
            ]
          },
          "execution_count": 8,
          "metadata": {},
          "output_type": "execute_result"
        }
      ],
      "source": [
        "#Imprimo las utlimas filas del dataFrame\n",
        "df.tail()"
      ]
    },
    {
      "cell_type": "code",
      "execution_count": null,
      "id": "cbb0a948",
      "metadata": {
        "id": "cbb0a948",
        "outputId": "68d0c0d5-c09d-4ddc-a6f3-1d03cbac8cd6"
      },
      "outputs": [
        {
          "name": "stdout",
          "output_type": "stream",
          "text": [
            "(9888, 10)\n"
          ]
        }
      ],
      "source": [
        "#Dimensiones del dataFrame\n",
        "print(df.shape)"
      ]
    },
    {
      "cell_type": "code",
      "execution_count": null,
      "id": "60f83f71",
      "metadata": {
        "id": "60f83f71",
        "outputId": "540dc615-852d-4567-934f-ae6fb360a9a5"
      },
      "outputs": [
        {
          "data": {
            "text/plain": [
              "Price                          9888\n",
              "Boat Type                      9888\n",
              "Manufacturer                   8550\n",
              "Type                           9882\n",
              "Year Built                     9888\n",
              "Length                         9879\n",
              "Width                          9832\n",
              "Material                       8139\n",
              "Location                       9852\n",
              "Number of views last 7 days    9888\n",
              "dtype: int64"
            ]
          },
          "execution_count": 10,
          "metadata": {},
          "output_type": "execute_result"
        }
      ],
      "source": [
        "#Registros Por Columnas\n",
        "\n",
        "df.count()"
      ]
    },
    {
      "cell_type": "code",
      "execution_count": null,
      "id": "1bd0255d",
      "metadata": {
        "id": "1bd0255d",
        "outputId": "11232990-4584-46ac-8bae-460db989ff7a"
      },
      "outputs": [
        {
          "name": "stdout",
          "output_type": "stream",
          "text": [
            "<class 'pandas.core.frame.DataFrame'>\n",
            "RangeIndex: 9888 entries, 0 to 9887\n",
            "Data columns (total 10 columns):\n",
            " #   Column                       Non-Null Count  Dtype  \n",
            "---  ------                       --------------  -----  \n",
            " 0   Price                        9888 non-null   object \n",
            " 1   Boat Type                    9888 non-null   object \n",
            " 2   Manufacturer                 8550 non-null   object \n",
            " 3   Type                         9882 non-null   object \n",
            " 4   Year Built                   9888 non-null   int64  \n",
            " 5   Length                       9879 non-null   float64\n",
            " 6   Width                        9832 non-null   float64\n",
            " 7   Material                     8139 non-null   object \n",
            " 8   Location                     9852 non-null   object \n",
            " 9   Number of views last 7 days  9888 non-null   int64  \n",
            "dtypes: float64(2), int64(2), object(6)\n",
            "memory usage: 772.6+ KB\n"
          ]
        }
      ],
      "source": [
        "#Informacion adicional del dataframe utilizado\n",
        "\n",
        "df.info()"
      ]
    },
    {
      "cell_type": "code",
      "execution_count": null,
      "id": "9072fdc6",
      "metadata": {
        "id": "9072fdc6",
        "outputId": "ba8c2638-be70-4630-aa9d-b5038c978fd6"
      },
      "outputs": [
        {
          "data": {
            "text/plain": [
              "Price                           object\n",
              "Boat Type                       object\n",
              "Manufacturer                    object\n",
              "Type                            object\n",
              "Year Built                       int64\n",
              "Length                         float64\n",
              "Width                          float64\n",
              "Material                        object\n",
              "Location                        object\n",
              "Number of views last 7 days      int64\n",
              "dtype: object"
            ]
          },
          "execution_count": 12,
          "metadata": {},
          "output_type": "execute_result"
        }
      ],
      "source": [
        "#tipos de datos/variables\n",
        "df.dtypes"
      ]
    },
    {
      "cell_type": "code",
      "execution_count": null,
      "id": "5ef1f61c",
      "metadata": {
        "id": "5ef1f61c",
        "outputId": "977cda44-5fce-40b6-8fca-ce7ba5edeec2"
      },
      "outputs": [
        {
          "data": {
            "text/plain": [
              "pandas.core.frame.DataFrame"
            ]
          },
          "execution_count": 13,
          "metadata": {},
          "output_type": "execute_result"
        }
      ],
      "source": [
        "#Verifico que sea un DataFrame\n",
        "\n",
        "type(df)"
      ]
    },
    {
      "cell_type": "code",
      "execution_count": null,
      "id": "2b1d8608",
      "metadata": {
        "id": "2b1d8608",
        "outputId": "13a33fe3-55e4-4ee5-b2d9-013cd521e35c"
      },
      "outputs": [
        {
          "name": "stdout",
          "output_type": "stream",
          "text": [
            "Index(['Price', 'Boat Type', 'Manufacturer', 'Type', 'Year Built', 'Length',\n",
            "       'Width', 'Material', 'Location', 'Number of views last 7 days'],\n",
            "      dtype='object')\n"
          ]
        }
      ],
      "source": [
        "#listar las columnas de mi dataframe\n",
        "print(df.columns)"
      ]
    },
    {
      "cell_type": "code",
      "execution_count": null,
      "id": "48bbf57d",
      "metadata": {
        "id": "48bbf57d",
        "outputId": "bcafb51a-9835-43d9-91b9-c9d8c4abf713"
      },
      "outputs": [
        {
          "name": "stdout",
          "output_type": "stream",
          "text": [
            "Price                             0\n",
            "Boat Type                         0\n",
            "Manufacturer                   1338\n",
            "Type                              6\n",
            "Year Built                        0\n",
            "Length                            9\n",
            "Width                            56\n",
            "Material                       1749\n",
            "Location                         36\n",
            "Number of views last 7 days       0\n",
            "dtype: int64\n"
          ]
        }
      ],
      "source": [
        "#Determinamos cuantos valores faltantes tenemos en cada columna\n",
        "print(df.isna().sum())\n"
      ]
    },
    {
      "cell_type": "code",
      "execution_count": null,
      "id": "95a77b78",
      "metadata": {
        "id": "95a77b78",
        "outputId": "0792e798-2031-423a-f82c-651ace4f04b6"
      },
      "outputs": [
        {
          "data": {
            "text/html": [
              "<div>\n",
              "<style scoped>\n",
              "    .dataframe tbody tr th:only-of-type {\n",
              "        vertical-align: middle;\n",
              "    }\n",
              "\n",
              "    .dataframe tbody tr th {\n",
              "        vertical-align: top;\n",
              "    }\n",
              "\n",
              "    .dataframe thead th {\n",
              "        text-align: right;\n",
              "    }\n",
              "</style>\n",
              "<table border=\"1\" class=\"dataframe\">\n",
              "  <thead>\n",
              "    <tr style=\"text-align: right;\">\n",
              "      <th></th>\n",
              "      <th>Year Built</th>\n",
              "      <th>Length</th>\n",
              "      <th>Width</th>\n",
              "      <th>Number of views last 7 days</th>\n",
              "    </tr>\n",
              "  </thead>\n",
              "  <tbody>\n",
              "    <tr>\n",
              "      <th>count</th>\n",
              "      <td>9888.000000</td>\n",
              "      <td>9879.000000</td>\n",
              "      <td>9832.000000</td>\n",
              "      <td>9888.000000</td>\n",
              "    </tr>\n",
              "    <tr>\n",
              "      <th>mean</th>\n",
              "      <td>1893.192860</td>\n",
              "      <td>11.570017</td>\n",
              "      <td>3.520124</td>\n",
              "      <td>149.160801</td>\n",
              "    </tr>\n",
              "    <tr>\n",
              "      <th>std</th>\n",
              "      <td>460.201582</td>\n",
              "      <td>6.002820</td>\n",
              "      <td>1.220534</td>\n",
              "      <td>151.819752</td>\n",
              "    </tr>\n",
              "    <tr>\n",
              "      <th>min</th>\n",
              "      <td>0.000000</td>\n",
              "      <td>1.040000</td>\n",
              "      <td>0.010000</td>\n",
              "      <td>13.000000</td>\n",
              "    </tr>\n",
              "    <tr>\n",
              "      <th>25%</th>\n",
              "      <td>1996.000000</td>\n",
              "      <td>7.470000</td>\n",
              "      <td>2.540000</td>\n",
              "      <td>70.000000</td>\n",
              "    </tr>\n",
              "    <tr>\n",
              "      <th>50%</th>\n",
              "      <td>2007.000000</td>\n",
              "      <td>10.280000</td>\n",
              "      <td>3.330000</td>\n",
              "      <td>108.000000</td>\n",
              "    </tr>\n",
              "    <tr>\n",
              "      <th>75%</th>\n",
              "      <td>2017.000000</td>\n",
              "      <td>13.930000</td>\n",
              "      <td>4.250000</td>\n",
              "      <td>172.000000</td>\n",
              "    </tr>\n",
              "    <tr>\n",
              "      <th>max</th>\n",
              "      <td>2021.000000</td>\n",
              "      <td>100.000000</td>\n",
              "      <td>25.160000</td>\n",
              "      <td>3263.000000</td>\n",
              "    </tr>\n",
              "  </tbody>\n",
              "</table>\n",
              "</div>"
            ],
            "text/plain": [
              "        Year Built       Length        Width  Number of views last 7 days\n",
              "count  9888.000000  9879.000000  9832.000000                  9888.000000\n",
              "mean   1893.192860    11.570017     3.520124                   149.160801\n",
              "std     460.201582     6.002820     1.220534                   151.819752\n",
              "min       0.000000     1.040000     0.010000                    13.000000\n",
              "25%    1996.000000     7.470000     2.540000                    70.000000\n",
              "50%    2007.000000    10.280000     3.330000                   108.000000\n",
              "75%    2017.000000    13.930000     4.250000                   172.000000\n",
              "max    2021.000000   100.000000    25.160000                  3263.000000"
            ]
          },
          "execution_count": 16,
          "metadata": {},
          "output_type": "execute_result"
        }
      ],
      "source": [
        "#Analisis exploratorio de datos\n",
        "df.describe()"
      ]
    },
    {
      "cell_type": "code",
      "execution_count": null,
      "id": "bf43ced0",
      "metadata": {
        "id": "bf43ced0",
        "outputId": "d6a9190f-98bf-4c1e-824b-8d0fe3e0ce8e"
      },
      "outputs": [
        {
          "data": {
            "text/html": [
              "<div>\n",
              "<style scoped>\n",
              "    .dataframe tbody tr th:only-of-type {\n",
              "        vertical-align: middle;\n",
              "    }\n",
              "\n",
              "    .dataframe tbody tr th {\n",
              "        vertical-align: top;\n",
              "    }\n",
              "\n",
              "    .dataframe thead th {\n",
              "        text-align: right;\n",
              "    }\n",
              "</style>\n",
              "<table border=\"1\" class=\"dataframe\">\n",
              "  <thead>\n",
              "    <tr style=\"text-align: right;\">\n",
              "      <th></th>\n",
              "      <th>count</th>\n",
              "      <th>mean</th>\n",
              "      <th>std</th>\n",
              "      <th>min</th>\n",
              "      <th>25%</th>\n",
              "      <th>50%</th>\n",
              "      <th>75%</th>\n",
              "      <th>max</th>\n",
              "    </tr>\n",
              "  </thead>\n",
              "  <tbody>\n",
              "    <tr>\n",
              "      <th>Year Built</th>\n",
              "      <td>9888.0</td>\n",
              "      <td>1893.192860</td>\n",
              "      <td>460.201582</td>\n",
              "      <td>0.00</td>\n",
              "      <td>1996.00</td>\n",
              "      <td>2007.00</td>\n",
              "      <td>2017.00</td>\n",
              "      <td>2021.00</td>\n",
              "    </tr>\n",
              "    <tr>\n",
              "      <th>Length</th>\n",
              "      <td>9879.0</td>\n",
              "      <td>11.570017</td>\n",
              "      <td>6.002820</td>\n",
              "      <td>1.04</td>\n",
              "      <td>7.47</td>\n",
              "      <td>10.28</td>\n",
              "      <td>13.93</td>\n",
              "      <td>100.00</td>\n",
              "    </tr>\n",
              "    <tr>\n",
              "      <th>Width</th>\n",
              "      <td>9832.0</td>\n",
              "      <td>3.520124</td>\n",
              "      <td>1.220534</td>\n",
              "      <td>0.01</td>\n",
              "      <td>2.54</td>\n",
              "      <td>3.33</td>\n",
              "      <td>4.25</td>\n",
              "      <td>25.16</td>\n",
              "    </tr>\n",
              "    <tr>\n",
              "      <th>Number of views last 7 days</th>\n",
              "      <td>9888.0</td>\n",
              "      <td>149.160801</td>\n",
              "      <td>151.819752</td>\n",
              "      <td>13.00</td>\n",
              "      <td>70.00</td>\n",
              "      <td>108.00</td>\n",
              "      <td>172.00</td>\n",
              "      <td>3263.00</td>\n",
              "    </tr>\n",
              "  </tbody>\n",
              "</table>\n",
              "</div>"
            ],
            "text/plain": [
              "                              count         mean         std    min      25%  \\\n",
              "Year Built                   9888.0  1893.192860  460.201582   0.00  1996.00   \n",
              "Length                       9879.0    11.570017    6.002820   1.04     7.47   \n",
              "Width                        9832.0     3.520124    1.220534   0.01     2.54   \n",
              "Number of views last 7 days  9888.0   149.160801  151.819752  13.00    70.00   \n",
              "\n",
              "                                 50%      75%      max  \n",
              "Year Built                   2007.00  2017.00  2021.00  \n",
              "Length                         10.28    13.93   100.00  \n",
              "Width                           3.33     4.25    25.16  \n",
              "Number of views last 7 days   108.00   172.00  3263.00  "
            ]
          },
          "execution_count": 17,
          "metadata": {},
          "output_type": "execute_result"
        }
      ],
      "source": [
        "df.describe().T #visualizamos la misma informacion del df.describe, pero cambiando filas por columnas"
      ]
    }
  ],
  "metadata": {
    "kernelspec": {
      "display_name": "Python 3 (ipykernel)",
      "language": "python",
      "name": "python3"
    },
    "language_info": {
      "codemirror_mode": {
        "name": "ipython",
        "version": 3
      },
      "file_extension": ".py",
      "mimetype": "text/x-python",
      "name": "python",
      "nbconvert_exporter": "python",
      "pygments_lexer": "ipython3",
      "version": "3.11.3"
    },
    "colab": {
      "provenance": [],
      "include_colab_link": true
    }
  },
  "nbformat": 4,
  "nbformat_minor": 5
}